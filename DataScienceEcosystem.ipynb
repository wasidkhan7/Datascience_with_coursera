{
 "cells": [
  {
   "cell_type": "markdown",
   "id": "c67abe9b",
   "metadata": {},
   "source": [
    "# Data Science Tools and Ecosystem"
   ]
  },
  {
   "cell_type": "markdown",
   "id": "92b1d71e",
   "metadata": {},
   "source": [
    "In this notebook, Data Science Tools and Ecosystem are summarized #exercise 3"
   ]
  },
  {
   "cell_type": "markdown",
   "id": "d3db7270",
   "metadata": {},
   "source": [
    "Objectives:                      \n",
    ". python\n",
    ".sql\n",
    ".html                     #  #exercise 10"
   ]
  },
  {
   "cell_type": "markdown",
   "id": "64642b7f",
   "metadata": {},
   "source": [
    "Some of the popular languages that Data Scientists use are:   #exercise 4\n",
    "1 python\n",
    "2 java \n",
    "3 c++"
   ]
  },
  {
   "cell_type": "markdown",
   "id": "b25a13ea",
   "metadata": {},
   "source": [
    "Some of the commonly used libraries used by Data Scientists include:    #exercise 5\n",
    "    1. numpy\n",
    "    2 pandas\n",
    "    3 tensorflow\n",
    "    3 sklearn"
   ]
  },
  {
   "cell_type": "markdown",
   "id": "690b438a",
   "metadata": {},
   "source": [
    "| Data Science Tools |\n",
    "|--------------------|\n",
    "| Jupyter Notebook   |\n",
    "| RStudio            |                                              #exercise 6\n",
    "| Apache Spark       |\n"
   ]
  },
  {
   "cell_type": "markdown",
   "id": "6ea74ef5",
   "metadata": {},
   "source": [
    "Below are a few examples of evaluating arithmetic expressions in Python.    #exercise 7"
   ]
  },
  {
   "cell_type": "code",
   "execution_count": 6,
   "id": "1fbb15fa",
   "metadata": {},
   "outputs": [
    {
     "data": {
      "text/plain": [
       "8"
      ]
     },
     "execution_count": 6,
     "metadata": {},
     "output_type": "execute_result"
    }
   ],
   "source": [
    "#multiplication first then addition    #exercise 8\n",
    "(2*3)+2 "
   ]
  },
  {
   "cell_type": "code",
   "execution_count": 7,
   "id": "a80772f2",
   "metadata": {},
   "outputs": [
    {
     "data": {
      "text/plain": [
       "3.3333333333333335"
      ]
     },
     "execution_count": 7,
     "metadata": {},
     "output_type": "execute_result"
    }
   ],
   "source": [
    "# This will convert 200 minutes to hours by dividing by 60      #exercise 9\n",
    "200 / 60"
   ]
  },
  {
   "cell_type": "markdown",
   "id": "6ad9c0c7",
   "metadata": {},
   "source": [
    "# AUTHOR                   \n",
    "# WASID KHAN         \n",
    "                        exercise 11"
   ]
  },
  {
   "cell_type": "code",
   "execution_count": null,
   "id": "df6adf85",
   "metadata": {},
   "outputs": [],
   "source": []
  }
 ],
 "metadata": {
  "kernelspec": {
   "display_name": "Python 3 (ipykernel)",
   "language": "python",
   "name": "python3"
  },
  "language_info": {
   "codemirror_mode": {
    "name": "ipython",
    "version": 3
   },
   "file_extension": ".py",
   "mimetype": "text/x-python",
   "name": "python",
   "nbconvert_exporter": "python",
   "pygments_lexer": "ipython3",
   "version": "3.11.5"
  }
 },
 "nbformat": 4,
 "nbformat_minor": 5
}
